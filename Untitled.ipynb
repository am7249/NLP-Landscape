{
 "cells": [
  {
   "cell_type": "code",
   "execution_count": 1,
   "metadata": {},
   "outputs": [],
   "source": [
    "import numpy as np\n",
    "import re\n",
    "\n",
    "%matplotlib inline\n",
    "import matplotlib.pyplot as plt\n",
    "#plt.style.use('ggplot')\n",
    "\n",
    "from sklearn.manifold import TSNE\n",
    "from sklearn.decomposition import PCA\n",
    "\n",
    "from gensim.test.utils import datapath, get_tmpfile\n",
    "from gensim.models import KeyedVectors\n",
    "from gensim.scripts.glove2word2vec import glove2word2vec"
   ]
  },
  {
   "cell_type": "code",
   "execution_count": 2,
   "metadata": {},
   "outputs": [
    {
     "data": {
      "text/plain": [
       "(400000, 300)"
      ]
     },
     "execution_count": 2,
     "metadata": {},
     "output_type": "execute_result"
    }
   ],
   "source": [
    "glove_file = datapath('/Users/macbook/Documents/glove.6B/glove.6B.300d.txt')\n",
    "word2vec_glove_file = get_tmpfile(\"glove.6B.100d.word2vec.txt\")\n",
    "glove2word2vec(glove_file, word2vec_glove_file)"
   ]
  },
  {
   "cell_type": "code",
   "execution_count": 3,
   "metadata": {},
   "outputs": [],
   "source": [
    "model = KeyedVectors.load_word2vec_format(word2vec_glove_file)"
   ]
  },
  {
   "cell_type": "code",
   "execution_count": 4,
   "metadata": {},
   "outputs": [
    {
     "data": {
      "text/plain": [
       "[('facebook', 0.8349668979644775),\n",
       " ('myspace', 0.7156518697738647),\n",
       " ('youtube', 0.7003146409988403),\n",
       " ('tweets', 0.6613803505897522),\n",
       " ('blog', 0.6582604646682739),\n",
       " ('blogging', 0.6539378762245178),\n",
       " ('blogs', 0.6365774869918823),\n",
       " ('instagram', 0.6170563697814941),\n",
       " ('tumblr', 0.60591059923172),\n",
       " ('tweet', 0.5980194211006165)]"
      ]
     },
     "execution_count": 4,
     "metadata": {},
     "output_type": "execute_result"
    }
   ],
   "source": [
    "model.most_similar('twitter')"
   ]
  },
  {
   "cell_type": "code",
   "execution_count": 5,
   "metadata": {},
   "outputs": [
    {
     "data": {
      "text/plain": [
       "[('http://www.opel.com', 0.40093329548835754),\n",
       " ('.70952', 0.39471495151519775),\n",
       " ('str94', 0.38977906107902527),\n",
       " ('bb94', 0.3876039683818817),\n",
       " ('js04bb', 0.3839298188686371),\n",
       " ('gph04bb', 0.38156330585479736),\n",
       " ('greg.wilcoxdailynews.com', 0.3787609934806824),\n",
       " ('kd95', 0.37471622228622437),\n",
       " ('27aou94', 0.3697817325592041),\n",
       " ('em96', 0.36964643001556396)]"
      ]
     },
     "execution_count": 5,
     "metadata": {},
     "output_type": "execute_result"
    }
   ],
   "source": [
    "model.most_similar(negative='hello')"
   ]
  },
  {
   "cell_type": "code",
   "execution_count": 6,
   "metadata": {},
   "outputs": [
    {
     "name": "stdout",
     "output_type": "stream",
     "text": [
      "queen: 0.6713\n"
     ]
    }
   ],
   "source": [
    "result = model.most_similar(positive=['woman', 'king'], negative=['man'])\n",
    "print(\"{}: {:.4f}\".format(*result[0]))"
   ]
  },
  {
   "cell_type": "code",
   "execution_count": 7,
   "metadata": {},
   "outputs": [
    {
     "data": {
      "text/plain": [
       "array([-6.0840e-01, -4.7647e-02,  8.1895e-02, -6.7070e-02,  1.5197e-01,\n",
       "       -2.8345e-01,  9.6882e-02, -4.6559e-01,  5.6192e-01, -6.9328e-01,\n",
       "        7.8453e-02,  5.5275e-01,  6.1895e-01, -4.1065e-01, -8.6188e-02,\n",
       "        1.3367e-01, -2.1386e-01, -1.4994e-01,  1.2682e-01,  2.9955e-01,\n",
       "        4.3239e-01,  6.5211e-01, -1.0615e-01, -3.6415e-01, -6.0353e-01,\n",
       "       -4.5258e-01, -1.0492e-01,  7.5128e-01,  1.9309e-01, -2.0599e-02,\n",
       "       -2.9622e-01, -1.2420e-01, -5.3737e-02,  5.2377e-01, -5.2374e-01,\n",
       "       -6.1919e-01, -3.5567e-01,  3.3953e-02,  3.4509e-01, -3.2726e-01,\n",
       "        6.7668e-02, -1.3774e-01, -2.5714e-01,  7.5424e-01,  1.5118e-01,\n",
       "       -2.1801e-01,  1.4933e-01, -2.4262e-01,  1.3513e-01, -2.1003e-01,\n",
       "       -3.4770e-01,  9.3973e-02,  1.7702e-01, -6.1049e-02,  2.0715e-01,\n",
       "        1.4274e-01,  3.2422e-01, -2.4798e-01, -5.3530e-01, -6.3787e-01,\n",
       "       -8.1722e-02, -8.0662e-02, -4.3410e-02, -3.0182e-01,  1.9277e-01,\n",
       "       -5.6427e-02,  3.9293e-01,  7.6606e-01,  2.2128e-02, -7.6448e-02,\n",
       "       -4.1175e-01, -3.7780e-01, -2.3448e-01,  6.1394e-01,  3.2526e-01,\n",
       "       -1.1759e-01,  5.3978e-01,  2.0594e-01,  9.0987e-02,  1.3281e-01,\n",
       "       -6.8829e-01, -1.2230e-01, -3.6704e-01, -1.2424e+00,  1.8268e-01,\n",
       "        9.1656e-02, -2.3019e-01,  1.4886e-01,  5.5473e-01, -3.5345e-01,\n",
       "       -8.9265e-01, -4.1313e-02,  3.6377e-01,  3.1588e-01,  3.2253e-01,\n",
       "       -2.0136e-01, -4.5128e-01, -2.9401e-01,  4.4664e-01, -1.0811e+00,\n",
       "        2.8360e-01, -3.5942e-01, -1.1455e-01, -3.4757e-01,  5.6989e-02,\n",
       "       -1.1794e-01,  8.2171e-02, -3.9533e-02, -4.6085e-02, -6.4082e-01,\n",
       "       -3.4256e-01,  1.7067e-02, -7.8287e-02,  1.2591e-01,  2.4706e-01,\n",
       "       -3.6733e-01,  2.0827e-01,  9.1960e-02, -3.1553e-03, -3.0076e-01,\n",
       "       -8.4745e-01, -5.1759e-02,  3.8767e-01,  2.9391e-01,  1.6317e-01,\n",
       "       -3.7157e-01, -8.7812e-02, -4.1725e-01,  3.1747e-01, -3.5510e-01,\n",
       "       -3.0671e-01,  5.3737e-01, -3.0569e-01,  1.9468e-01,  7.4926e-01,\n",
       "       -2.6860e-02,  3.9380e-01, -1.7310e-02,  1.7076e-01, -3.4019e-01,\n",
       "       -4.5860e-01,  5.8435e-02, -6.1551e-02, -1.5188e-01, -3.2962e-02,\n",
       "        3.9114e-01, -9.6472e-02,  5.0792e-01,  3.4731e-01,  3.6981e-01,\n",
       "        1.1510e-01, -4.5708e-01, -5.4729e-02, -2.6455e-01, -3.7157e-01,\n",
       "       -3.9103e-01,  3.7234e-01,  3.3150e-01, -2.8975e-02, -5.2419e-01,\n",
       "       -3.4081e-01,  2.9876e-01,  1.6421e-01, -2.0310e-02, -4.2591e-01,\n",
       "        5.2267e-02, -7.9737e-02,  6.9444e-01, -8.1854e-02, -3.0512e-02,\n",
       "       -7.8591e-02, -5.9121e-04, -9.0133e-01, -2.3511e-01,  5.7256e-01,\n",
       "       -1.4478e-02,  2.8729e-01, -2.4554e-02,  4.3175e-01,  4.2698e-01,\n",
       "       -2.8541e-01, -4.2628e-01,  7.3568e-01,  1.0521e-01, -3.5414e-01,\n",
       "       -3.7814e-01, -2.5542e-01, -7.6695e-02,  3.3962e-01, -6.8469e-02,\n",
       "        5.8504e-01, -1.4765e-01, -7.5961e-01,  2.9688e-02, -1.6484e-01,\n",
       "       -4.9238e-01,  1.4312e-01, -4.5334e-02,  3.1229e-01, -5.2373e-01,\n",
       "       -1.4069e-01, -1.0109e+00,  3.3981e-01,  9.5661e-01, -1.9318e-02,\n",
       "       -7.0273e-02, -1.0803e-01,  7.1578e-02, -3.3487e-01,  6.6804e-01,\n",
       "        5.8819e-01, -3.6581e-01,  6.4755e-01, -4.3559e-01, -9.1128e-01,\n",
       "       -5.0164e-02,  2.4296e-02,  9.6863e-01,  3.1881e-01,  7.7681e-01,\n",
       "       -7.3485e-01,  9.4484e-01, -1.9759e-01,  1.5547e-01,  4.9551e-01,\n",
       "       -9.4266e-02, -2.4060e-01, -1.4306e-01, -1.7309e-01,  4.0062e-02,\n",
       "       -9.5471e-01,  2.2285e-01, -9.1286e-02, -6.1414e-01,  2.9419e-01,\n",
       "       -5.3973e-01,  2.9248e-01,  3.9908e-01, -2.0666e-01, -1.6831e-01,\n",
       "        5.9708e-01, -7.1464e-02, -2.7815e-01,  2.7647e-01,  3.4033e-03,\n",
       "        5.3052e-01, -2.4308e-01, -6.5889e-02,  3.6153e-01, -3.0550e-01,\n",
       "        2.4638e-01, -1.5268e-01, -3.3787e-01,  1.4987e-01, -4.5230e-01,\n",
       "        2.3366e-01,  3.1347e-01, -1.8767e-01, -2.8762e-01, -1.4630e-01,\n",
       "        1.9811e-01, -8.0576e-03,  1.8261e-01, -8.0652e-01, -1.0561e-01,\n",
       "        4.3007e-01,  1.0202e-01, -6.4411e-02, -1.5453e-01,  1.2097e-02,\n",
       "       -2.5322e-02,  9.8090e-02, -3.3353e-01, -6.0440e-01,  4.2688e-02,\n",
       "       -3.9141e-01, -1.2183e+00, -8.6345e-01,  4.1773e-01,  1.4704e-02,\n",
       "       -2.1678e-02, -1.8806e-01, -3.3674e-01,  8.6008e-02, -2.8135e-01,\n",
       "       -7.7956e-01,  5.4378e-01, -2.5045e-01, -2.9661e-01,  7.3568e-01,\n",
       "        6.2559e-02, -2.5699e-01, -9.5764e-01,  1.6263e-01, -3.7625e-01,\n",
       "       -3.8747e-01,  1.2709e-01,  4.5448e-01, -6.0914e-01, -5.6136e-02],\n",
       "      dtype=float32)"
      ]
     },
     "execution_count": 7,
     "metadata": {},
     "output_type": "execute_result"
    }
   ],
   "source": [
    "model.word_vec('facebook')"
   ]
  },
  {
   "cell_type": "code",
   "execution_count": 8,
   "metadata": {},
   "outputs": [
    {
     "data": {
      "text/plain": [
       "[('facebook', 0.8349668979644775),\n",
       " ('myspace', 0.7156518697738647),\n",
       " ('youtube', 0.7003146409988403),\n",
       " ('tweets', 0.6613803505897522),\n",
       " ('blog', 0.6582604646682739),\n",
       " ('blogging', 0.6539378762245178),\n",
       " ('blogs', 0.6365774869918823),\n",
       " ('instagram', 0.6170563697814941),\n",
       " ('tumblr', 0.60591059923172),\n",
       " ('tweet', 0.5980194211006165)]"
      ]
     },
     "execution_count": 8,
     "metadata": {},
     "output_type": "execute_result"
    }
   ],
   "source": [
    "model.similar_by_word('twitter')"
   ]
  },
  {
   "cell_type": "code",
   "execution_count": 9,
   "metadata": {},
   "outputs": [],
   "source": [
    "def display_closestwords_tsnescatterplot(model, word):\n",
    "    \n",
    "    arr = np.empty((0,300), dtype='f')\n",
    "    word_labels = [word]\n",
    "\n",
    "    # get close words\n",
    "    close_words = model.similar_by_word(word)\n",
    "    \n",
    "    # add the vector for each of the closest words to the array\n",
    "    arr = np.append(arr, np.array([model[word]]), axis=0)\n",
    "    for wrd_score in close_words:\n",
    "        wrd_vector = model[wrd_score[0]]\n",
    "        word_labels.append(wrd_score[0])\n",
    "        arr = np.append(arr, np.array([wrd_vector]), axis=0)\n",
    "        \n",
    "    # find tsne coords for 2 dimensions\n",
    "    tsne = PCA(n_components=2, random_state=0)\n",
    "    np.set_printoptions(suppress=True)\n",
    "    Y = tsne.fit_transform(arr)\n",
    "\n",
    "    x_coords = Y[:, 0]\n",
    "    y_coords = Y[:, 1]\n",
    "    # display scatter plot\n",
    "    plt.scatter(x_coords, y_coords)\n",
    "\n",
    "    for label, x, y in zip(word_labels, x_coords, y_coords):\n",
    "        plt.annotate(label, xy=(x, y), xytext=(0, 0), textcoords='offset points')\n",
    "    plt.xlim(x_coords.min()+0.00005, x_coords.max()+0.00005)\n",
    "    plt.ylim(y_coords.min()+0.00005, y_coords.max()+0.00005)\n",
    "    plt.show()"
   ]
  },
  {
   "cell_type": "code",
   "execution_count": 10,
   "metadata": {},
   "outputs": [
    {
     "data": {
      "image/png": "[encoded data removed]",
      "text/plain": [
       "<Figure size 432x288 with 1 Axes>"
      ]
     },
     "metadata": {
      "needs_background": "light"
     },
     "output_type": "display_data"
    }
   ],
   "source": [
    "display_closestwords_tsnescatterplot(model, 'katrina')"
   ]
  },
  {
   "cell_type": "code",
   "execution_count": 11,
   "metadata": {},
   "outputs": [],
   "source": [
    "def analogy(x1, x2, y1):\n",
    "    result = model.most_similar(positive=[y1, x2], negative=[x1])\n",
    "    return result[0][0]"
   ]
  },
  {
   "cell_type": "code",
   "execution_count": 12,
   "metadata": {},
   "outputs": [],
   "source": [
    "def display_pca_scatterplot(model, words=None, sample=0):\n",
    "    if words == None:\n",
    "        if sample > 0:\n",
    "            words = np.random.choice(list(model.vocab.keys()), sample)\n",
    "        else:\n",
    "            words = [word for word in model.vocab]\n",
    "            \n",
    "    word_vectors = np.array([model[w] for w in words])\n",
    "    twodim = PCA().fit_transform(word_vectors)[:,:2]\n",
    "    \n",
    "    plt.figure(figsize=(6,6))\n",
    "    plt.scatter(twodim[:,0], twodim[:,1], edgecolors='k', c='r')\n",
    "    for word, (x,y) in zip(words, twodim):\n",
    "        plt.text(x+0.05, y+0.05, word)"
   ]
  },
  {
   "cell_type": "code",
   "execution_count": 13,
   "metadata": {},
   "outputs": [
    {
     "data": {
      "image/png": "[encoded data removed]",
      "text/plain": [
       "<Figure size 432x432 with 1 Axes>"
      ]
     },
     "metadata": {
      "needs_background": "light"
     },
     "output_type": "display_data"
    }
   ],
   "source": [
    "display_pca_scatterplot(model,\n",
    "                       ['pakistan', 'india', 'china', 'france', 'greece', 'sweden', 'canada',\n",
    "                       'football', 'cricket', 'volleyball', 'basketball', 'baseball', 'hockey',\n",
    "                       'nyu', 'princeton', 'stanford', 'wharton', 'harvard', 'cornell', 'duke'])"
   ]
  },
  {
   "cell_type": "code",
   "execution_count": 14,
   "metadata": {},
   "outputs": [
    {
     "data": {
      "image/png": "[encoded data removed]",
      "text/plain": [
       "<Figure size 432x432 with 1 Axes>"
      ]
     },
     "metadata": {
      "needs_background": "light"
     },
     "output_type": "display_data"
    }
   ],
   "source": [
    "display_pca_scatterplot(model, sample=30)"
   ]
  },
  {
   "cell_type": "code",
   "execution_count": 15,
   "metadata": {},
   "outputs": [],
   "source": [
    "import pandas as pd"
   ]
  },
  {
   "cell_type": "code",
   "execution_count": 16,
   "metadata": {},
   "outputs": [],
   "source": [
    "data = pd.read_csv('document_lyrics.csv')"
   ]
  },
  {
   "cell_type": "code",
   "execution_count": 17,
   "metadata": {},
   "outputs": [],
   "source": [
    "data = data.dropna()"
   ]
  },
  {
   "cell_type": "code",
   "execution_count": 18,
   "metadata": {},
   "outputs": [],
   "source": [
    "lyrics = list(data['lyrics'])"
   ]
  },
  {
   "cell_type": "code",
   "execution_count": 19,
   "metadata": {},
   "outputs": [
    {
     "data": {
      "text/plain": [
       "'[Intro]\\nOoh-oh, ooh-woh\\nOoh-oh, ooh-woh\\n\\n[Verse 1]\\nYou say you love me, I say you crazy\\nWe\\'re nothing more than friends\\nYou\\'re not my lover, more like a brother\\nI known you since we were like ten, yeah\\n\\n[Refrain]\\nDon\\'t mess it up, talking that shit\\nOnly gonna push me away, that\\'s it!\\nWhen you say you love me, that make me crazy\\nHere we go again\\n\\n[Pre-Chorus]\\nDon\\'t go look at me with that look in your eye\\nYou really ain\\'t going away without a fight\\nYou can\\'t be reasoned with, I\\'m done being polite\\nI\\'ve told you one, two, three, four, five, six thousand times\\n\\n[Chorus]\\nHaven\\'t I made it obvious?\\nHaven\\'t I made it clear?\\nWant me to spell it out for you?\\nF-R-I-E-N-D-S\\nHaven\\'t I made it obvious?\\nHaven\\'t I made it clear?\\nWant me to spell it out for you?\\nF-R-I-E-N-D-S\\nF-R-I-E-N-D-S\\n\\n[Verse 2]\\nHave you got no shame? You looking insane\\nTurning up at my door\\nIt\\'s two in the morning, the rain is pouring\\nHaven\\'t we been here before?\\n\\n[Refrain]\\nDon\\'t mess it up, talking that shit\\nOnly gonna push me away, that\\'s it!\\nHave you got no shame? You looking insane\\nHere we go again\\n\\n[Pre-Chorus]\\nSo don\\'t go look at me with that look in your eye\\nYou really ain\\'t going away without a fight\\nYou can\\'t be reasoned with, I\\'m done being polite\\nI\\'ve told you one, two, three, four, five, six thousand times\\n\\n[Chorus]\\nHaven\\'t I made it obvious? (Haven\\'t I made it?)\\nHaven\\'t I made it clear? (Haven\\'t I made it clear?)\\nWant me to spell it out for you?\\nF-R-I-E-N-D-S\\nHaven\\'t I made it obvious?\\nHaven\\'t I made it clear? (Haven\\'t I?)\\nWant me to spell it out for you? (To spell it out for you?)\\nF-R-I-E-N-D-S\\nF-R-I-E-N-D-S\\n\\n[Bridge]\\nF-R-I-E-N-D-S\\nThat\\'s how you f****** spell \"friends\"\\nF-R-I-E-N-D-S\\nGet that shit inside your head\\nNo, no, yeah, uh, ah\\nF-R-I-E-N-D-S\\nWe\\'re just friends\\n\\n[Pre-Chorus]\\nSo don\\'t go look at me with that look in your eye\\nYou really ain\\'t going nowhere without a fight\\nYou can\\'t be reasoned with, I\\'m done being polite\\nI\\'ve told you one, two, three, four, five, six thousand times\\n\\n[Chorus]\\nHaven\\'t I made it obvious? (Have I not made it obvious?)\\nHaven\\'t I made it clear? (Yeah, I made it very clear)\\nWant me to spell it out for you? (Yo)\\nF-R-I-E-N-D-S (I said F-R-I-E-N-D-S)\\nHaven\\'t I made it obvious? (I made it very obvious)\\nHaven\\'t I made it clear? (I made it very clear)\\nWant me to spell it out for you?\\nF-R-I-E-N-D-S\\nF-R-I-E-N-D-S\\n\\n[Outro]\\nMmm, ooh, ooh, ooh\\nAh, ah-oh, ah-oh'"
      ]
     },
     "execution_count": 19,
     "metadata": {},
     "output_type": "execute_result"
    }
   ],
   "source": [
    "lyrics[0]"
   ]
  },
  {
   "cell_type": "code",
   "execution_count": 20,
   "metadata": {},
   "outputs": [],
   "source": [
    "songs = []\n",
    "for lyric in lyrics:\n",
    "    # remove parenthesis \n",
    "    input_text_noparens = re.sub(r'\\([^)]*\\)', '', lyric)\n",
    "    # store as list of sentences\n",
    "    sentences_strings_ted = []\n",
    "    for line in input_text_noparens.split('\\n'):\n",
    "        m = re.match(r'^(?:(?P<precolon>[^:]{,20}):)?(?P<postcolon>.*)$', line)\n",
    "        sentences_strings_ted.extend(sent for sent in m.groupdict()['postcolon'].split('.') if sent)\n",
    "    # store as list of lists of words\n",
    "    sentences_ted = []\n",
    "    for sent_str in sentences_strings_ted:\n",
    "        tokens = re.sub(r\"[^a-z0-9]+\", \" \", sent_str.lower()).split()\n",
    "        sentences_ted.append(tokens)\n",
    "    songs.append(sentences_ted)"
   ]
  },
  {
   "cell_type": "code",
   "execution_count": 21,
   "metadata": {},
   "outputs": [],
   "source": [
    "from gensim.models import Word2Vec\n",
    "model_ted = Word2Vec(sentences=songs[0], size=100, window=5, min_count=2, workers=4, sg=0)"
   ]
  },
  {
   "cell_type": "code",
   "execution_count": 22,
   "metadata": {},
   "outputs": [
    {
     "data": {
      "text/plain": [
       "[('only', 0.2811890244483948),\n",
       " ('six', 0.26062554121017456),\n",
       " ('got', 0.241266667842865),\n",
       " ('push', 0.17183804512023926),\n",
       " ('woh', 0.1415254771709442),\n",
       " ('re', 0.14040301740169525),\n",
       " ('shit', 0.13999506831169128),\n",
       " ('going', 0.12498214840888977),\n",
       " ('four', 0.12199842929840088),\n",
       " ('i', 0.11981228739023209)]"
      ]
     },
     "execution_count": 22,
     "metadata": {},
     "output_type": "execute_result"
    }
   ],
   "source": [
    "model_ted.wv.most_similar('insane')"
   ]
  },
  {
   "cell_type": "code",
   "execution_count": 23,
   "metadata": {},
   "outputs": [],
   "source": [
    "from gensim.models import FastText\n",
    "model_ted = FastText(songs[180], size=100, window=5, min_count=2, workers=4,sg=1)"
   ]
  },
  {
   "cell_type": "code",
   "execution_count": 24,
   "metadata": {},
   "outputs": [
    {
     "data": {
      "text/plain": [
       "[('niggas', 0.22657373547554016),\n",
       " ('up', 0.21241310238838196),\n",
       " ('legend', 0.2094704508781433),\n",
       " ('heard', 0.15774711966514587),\n",
       " ('have', 0.1402430683374405),\n",
       " ('or', 0.1252874732017517),\n",
       " ('at', 0.12286976724863052),\n",
       " ('full', 0.12225708365440369),\n",
       " ('thinkin', 0.12225174903869629),\n",
       " ('verse', 0.11381307244300842)]"
      ]
     },
     "execution_count": 24,
     "metadata": {},
     "output_type": "execute_result"
    }
   ],
   "source": [
    "model_ted.wv.most_similar(\"saint\")"
   ]
  },
  {
   "cell_type": "code",
   "execution_count": 31,
   "metadata": {},
   "outputs": [],
   "source": [
    "import csv\n",
    "from nltk.stem import WordNetLemmatizer\n",
    "from gensim.models.doc2vec import TaggedDocument\n",
    "\n",
    "wnl = WordNetLemmatizer()\n",
    "\n",
    "class Sentences(object):\n",
    "    \n",
    "    def __init__(self, filename, column):\n",
    "        self.filename = filename\n",
    "        self.column = column\n",
    "        \n",
    "    @staticmethod\n",
    "    def get_tokens(text):\n",
    "        \"\"\"Helper function for tokenizing data\"\"\"\n",
    "        return [wnl.lemmatize(r.lower()) for r in text.split()]\n",
    " \n",
    "    def __iter__(self):\n",
    "        reader = csv.DictReader(open(self.filename, 'r' ))\n",
    "        for row in reader:\n",
    "            words = self.get_tokens(row[self.column])\n",
    "            tags = ['%s|%s' % (row['song_name'], row['label'])]\n",
    "            yield TaggedDocument(words=words, tags=tags)"
   ]
  },
  {
   "cell_type": "code",
   "execution_count": 32,
   "metadata": {},
   "outputs": [],
   "source": [
    "filename = 'document_lyrics.csv'\n",
    "sentences = Sentences(filename=filename, column='lyrics')\n",
    "\n",
    "# for song lookups\n",
    "df_train = pd.read_csv(filename)"
   ]
  },
  {
   "cell_type": "code",
   "execution_count": 33,
   "metadata": {},
   "outputs": [],
   "source": [
    "df_train = df_train.dropna()"
   ]
  },
  {
   "cell_type": "code",
   "execution_count": 34,
   "metadata": {
    "scrolled": true
   },
   "outputs": [
    {
     "data": {
      "text/html": [
       "<div>\n",
       "<style scoped>\n",
       "    .dataframe tbody tr th:only-of-type {\n",
       "        vertical-align: middle;\n",
       "    }\n",
       "\n",
       "    .dataframe tbody tr th {\n",
       "        vertical-align: top;\n",
       "    }\n",
       "\n",
       "    .dataframe thead th {\n",
       "        text-align: right;\n",
       "    }\n",
       "</style>\n",
       "<table border=\"1\" class=\"dataframe\">\n",
       "  <thead>\n",
       "    <tr style=\"text-align: right;\">\n",
       "      <th></th>\n",
       "      <th>song_name</th>\n",
       "      <th>lyrics</th>\n",
       "      <th>label</th>\n",
       "    </tr>\n",
       "  </thead>\n",
       "  <tbody>\n",
       "    <tr>\n",
       "      <th>0</th>\n",
       "      <td>Just Friends</td>\n",
       "      <td>[Intro]\\nOoh-oh, ooh-woh\\nOoh-oh, ooh-woh\\n\\n[...</td>\n",
       "      <td>1</td>\n",
       "    </tr>\n",
       "    <tr>\n",
       "      <th>1</th>\n",
       "      <td>Footprint</td>\n",
       "      <td>[Part 1: Yoncé]\\n\\n[Intro]\\nLet me hear you sa...</td>\n",
       "      <td>0</td>\n",
       "    </tr>\n",
       "    <tr>\n",
       "      <th>2</th>\n",
       "      <td>The Best Of Myself</td>\n",
       "      <td>[Verse 1]\\nYou woke me up\\nI didn't know I'd f...</td>\n",
       "      <td>1</td>\n",
       "    </tr>\n",
       "    <tr>\n",
       "      <th>3</th>\n",
       "      <td>Light of You</td>\n",
       "      <td>[Verse 1]\\nElementary pa lang, napapansin na n...</td>\n",
       "      <td>0</td>\n",
       "    </tr>\n",
       "    <tr>\n",
       "      <th>4</th>\n",
       "      <td>Own It feat Ed Sheeran  Burna Boy</td>\n",
       "      <td>Lewis Capaldi - Before You Go\\nStormzy - Own I...</td>\n",
       "      <td>1</td>\n",
       "    </tr>\n",
       "    <tr>\n",
       "      <th>5</th>\n",
       "      <td>FRIENDS</td>\n",
       "      <td>[Intro]\\nOoh-oh, ooh-woh\\nOoh-oh, ooh-woh\\n\\n[...</td>\n",
       "      <td>1</td>\n",
       "    </tr>\n",
       "    <tr>\n",
       "      <th>6</th>\n",
       "      <td>Sorry</td>\n",
       "      <td>[Written by Julia Michaels, Justin Tranter, an...</td>\n",
       "      <td>1</td>\n",
       "    </tr>\n",
       "    <tr>\n",
       "      <th>7</th>\n",
       "      <td>The Middle</td>\n",
       "      <td>[AARON BURR]\\nHow does a bastard, orphan, son ...</td>\n",
       "      <td>1</td>\n",
       "    </tr>\n",
       "    <tr>\n",
       "      <th>8</th>\n",
       "      <td>Galway Girl</td>\n",
       "      <td>[Chorus]\\nShe played the fiddle in an Irish ba...</td>\n",
       "      <td>1</td>\n",
       "    </tr>\n",
       "    <tr>\n",
       "      <th>9</th>\n",
       "      <td>This Is What You Came For</td>\n",
       "      <td>[Chorus: Rihanna]\\nBaby, this is what you came...</td>\n",
       "      <td>1</td>\n",
       "    </tr>\n",
       "    <tr>\n",
       "      <th>10</th>\n",
       "      <td>Glorious feat Skylar Grey</td>\n",
       "      <td>Calvin Harris - Feels feat. Pharrell Williams,...</td>\n",
       "      <td>1</td>\n",
       "    </tr>\n",
       "    <tr>\n",
       "      <th>11</th>\n",
       "      <td>Only Human</td>\n",
       "      <td>[Intro: Nick Jonas]\\nYeah, ayy\\n\\n[Verse 1: Jo...</td>\n",
       "      <td>1</td>\n",
       "    </tr>\n",
       "    <tr>\n",
       "      <th>12</th>\n",
       "      <td>Hello</td>\n",
       "      <td>[Verse 1]\\nHello, it's me\\nI was wondering if ...</td>\n",
       "      <td>1</td>\n",
       "    </tr>\n",
       "    <tr>\n",
       "      <th>13</th>\n",
       "      <td>Live Before I Die   Naughty Boy x Mike Posner</td>\n",
       "      <td>11/1\\nAlan Walker - \"Avem (The Aviation Theme)...</td>\n",
       "      <td>1</td>\n",
       "    </tr>\n",
       "    <tr>\n",
       "      <th>14</th>\n",
       "      <td>Old Ways</td>\n",
       "      <td>[Intro: Moodymann]\\nHold on, hold on, fuck tha...</td>\n",
       "      <td>1</td>\n",
       "    </tr>\n",
       "    <tr>\n",
       "      <th>15</th>\n",
       "      <td>Shape of You</td>\n",
       "      <td>[Verse 1]\\nThe club isn't the best place to fi...</td>\n",
       "      <td>1</td>\n",
       "    </tr>\n",
       "    <tr>\n",
       "      <th>16</th>\n",
       "      <td>Be Your Light</td>\n",
       "      <td>[Verse 1]\\nHonja jjujeo anja\\nSaenggag man keo...</td>\n",
       "      <td>1</td>\n",
       "    </tr>\n",
       "    <tr>\n",
       "      <th>17</th>\n",
       "      <td>On The Road feat Meek Mill  Lil Baby</td>\n",
       "      <td>[Letra de \"Post Malone - On the Road ft. Lil B...</td>\n",
       "      <td>1</td>\n",
       "    </tr>\n",
       "    <tr>\n",
       "      <th>18</th>\n",
       "      <td>Far Away</td>\n",
       "      <td>[Verse 1: Young P.T./Ellis Rubin]\\nI close my ...</td>\n",
       "      <td>1</td>\n",
       "    </tr>\n",
       "    <tr>\n",
       "      <th>19</th>\n",
       "      <td>Circle Game</td>\n",
       "      <td>[Intro: Keyshia Cole]\\nAye, yeah\\nYeah\\nHey, y...</td>\n",
       "      <td>0</td>\n",
       "    </tr>\n",
       "    <tr>\n",
       "      <th>20</th>\n",
       "      <td>Thats What I Like</td>\n",
       "      <td>[Part I]\\n\\n[Intro: Drake]\\nAstro, yeah\\nSun i...</td>\n",
       "      <td>1</td>\n",
       "    </tr>\n",
       "    <tr>\n",
       "      <th>21</th>\n",
       "      <td>Hey Why Miss You Sometime</td>\n",
       "      <td>[Intro]\\nAyy\\nAh, haha\\n\\n[Verse 1]\\nBig time ...</td>\n",
       "      <td>0</td>\n",
       "    </tr>\n",
       "    <tr>\n",
       "      <th>22</th>\n",
       "      <td>Missing You</td>\n",
       "      <td>[Verse 1: Olivia O'Brien]\\nFeeling used, but I...</td>\n",
       "      <td>0</td>\n",
       "    </tr>\n",
       "    <tr>\n",
       "      <th>23</th>\n",
       "      <td>Let Me Love You</td>\n",
       "      <td>[Verse 1: Justin Bieber]\\nI used to believe\\nW...</td>\n",
       "      <td>1</td>\n",
       "    </tr>\n",
       "    <tr>\n",
       "      <th>24</th>\n",
       "      <td>Throne</td>\n",
       "      <td>[Intro: Blades of Glory sample]\\n\"We're going ...</td>\n",
       "      <td>0</td>\n",
       "    </tr>\n",
       "    <tr>\n",
       "      <th>25</th>\n",
       "      <td>90 Days feat Wrabel</td>\n",
       "      <td>[Intro: P!nk]\\nNo-no-no, no-no-no, no\\nHey\\nNo...</td>\n",
       "      <td>0</td>\n",
       "    </tr>\n",
       "    <tr>\n",
       "      <th>26</th>\n",
       "      <td>Un Poco Loco</td>\n",
       "      <td>[Letra de \"Un Poco Loco\" ft. Gael García Berna...</td>\n",
       "      <td>1</td>\n",
       "    </tr>\n",
       "    <tr>\n",
       "      <th>27</th>\n",
       "      <td>Use This Gospel</td>\n",
       "      <td>[Intro: Kanye West]\\nOh, oh, oh, oh, oh, oh\\nO...</td>\n",
       "      <td>0</td>\n",
       "    </tr>\n",
       "    <tr>\n",
       "      <th>28</th>\n",
       "      <td>Believer</td>\n",
       "      <td>[Verse 1]\\nFirst things first\\nI'ma say all th...</td>\n",
       "      <td>1</td>\n",
       "    </tr>\n",
       "    <tr>\n",
       "      <th>29</th>\n",
       "      <td>Love Me Anyway feat Chris Stapleton</td>\n",
       "      <td>[Verse 1: P!nk]\\nEven if you see my scars, eve...</td>\n",
       "      <td>0</td>\n",
       "    </tr>\n",
       "    <tr>\n",
       "      <th>...</th>\n",
       "      <td>...</td>\n",
       "      <td>...</td>\n",
       "      <td>...</td>\n",
       "    </tr>\n",
       "    <tr>\n",
       "      <th>289</th>\n",
       "      <td>Can I Call You Mine</td>\n",
       "      <td>[Verse 1]\\nTwo kids with their hearts on fire\\...</td>\n",
       "      <td>1</td>\n",
       "    </tr>\n",
       "    <tr>\n",
       "      <th>290</th>\n",
       "      <td>Just Friends</td>\n",
       "      <td>[Intro]\\nOoh-oh, ooh-woh\\nOoh-oh, ooh-woh\\n\\n[...</td>\n",
       "      <td>0</td>\n",
       "    </tr>\n",
       "    <tr>\n",
       "      <th>291</th>\n",
       "      <td>Closer</td>\n",
       "      <td>[Verse 1: Andrew Taggart]\\nHey, I was doing ju...</td>\n",
       "      <td>1</td>\n",
       "    </tr>\n",
       "    <tr>\n",
       "      <th>292</th>\n",
       "      <td>Purple Balenciagas</td>\n",
       "      <td>[Intro]\\nYeah, uh, uh\\nUh-huh, huh, hahaha\\nSo...</td>\n",
       "      <td>0</td>\n",
       "    </tr>\n",
       "    <tr>\n",
       "      <th>293</th>\n",
       "      <td>Just the Way You Are</td>\n",
       "      <td>[Verse 1]\\nShe just wants to be beautiful\\nShe...</td>\n",
       "      <td>1</td>\n",
       "    </tr>\n",
       "    <tr>\n",
       "      <th>294</th>\n",
       "      <td>Synthesize</td>\n",
       "      <td>[Intro: Giorgio Moroder]\\nWhen I was fifteen, ...</td>\n",
       "      <td>1</td>\n",
       "    </tr>\n",
       "    <tr>\n",
       "      <th>295</th>\n",
       "      <td>Better Now</td>\n",
       "      <td>[Intro]\\nLove yours\\nLove yours\\nNo such thing...</td>\n",
       "      <td>1</td>\n",
       "    </tr>\n",
       "    <tr>\n",
       "      <th>296</th>\n",
       "      <td>One Kiss with Dua Lipa</td>\n",
       "      <td>Band of Horses - No One's Gonna Love You (Stoc...</td>\n",
       "      <td>1</td>\n",
       "    </tr>\n",
       "    <tr>\n",
       "      <th>297</th>\n",
       "      <td>Back to You feat Bebe Rexha  Digital Farm Animals</td>\n",
       "      <td>PRETTYMUCH - Would You Mind\\nX Ambassadors - A...</td>\n",
       "      <td>1</td>\n",
       "    </tr>\n",
       "    <tr>\n",
       "      <th>298</th>\n",
       "      <td>Girls Like You feat Cardi B</td>\n",
       "      <td>Kanye West - All Mine\\nThe 1975 - Give Yoursel...</td>\n",
       "      <td>1</td>\n",
       "    </tr>\n",
       "    <tr>\n",
       "      <th>299</th>\n",
       "      <td>Sorry Not Sorry</td>\n",
       "      <td>[Intro]\\nPayback is a bad bitch\\nAnd baby, I'm...</td>\n",
       "      <td>1</td>\n",
       "    </tr>\n",
       "    <tr>\n",
       "      <th>300</th>\n",
       "      <td>Mama</td>\n",
       "      <td>[Verse 1]\\nWhere should we run to?\\nWe got the...</td>\n",
       "      <td>1</td>\n",
       "    </tr>\n",
       "    <tr>\n",
       "      <th>301</th>\n",
       "      <td>Theres Nothing Holdin Me Back</td>\n",
       "      <td>[Verse 1]\\nI wanna follow where she goes\\nI th...</td>\n",
       "      <td>1</td>\n",
       "    </tr>\n",
       "    <tr>\n",
       "      <th>302</th>\n",
       "      <td>This City</td>\n",
       "      <td>[Produced by Vinylz]\\n\\n[Verse 1]\\nSince a you...</td>\n",
       "      <td>1</td>\n",
       "    </tr>\n",
       "    <tr>\n",
       "      <th>303</th>\n",
       "      <td>On My Way</td>\n",
       "      <td>[Intro]\\nAre you alright?\\nI'm alright, I'm qu...</td>\n",
       "      <td>1</td>\n",
       "    </tr>\n",
       "    <tr>\n",
       "      <th>304</th>\n",
       "      <td>Nuevo Orden</td>\n",
       "      <td>[Intro]\\nEl nuevo orden\\nEl nuevo orden musica...</td>\n",
       "      <td>0</td>\n",
       "    </tr>\n",
       "    <tr>\n",
       "      <th>305</th>\n",
       "      <td>Naked</td>\n",
       "      <td>[Verse 1]\\nHey, you there\\nCan we take it to t...</td>\n",
       "      <td>1</td>\n",
       "    </tr>\n",
       "    <tr>\n",
       "      <th>306</th>\n",
       "      <td>Echoes</td>\n",
       "      <td>[Intro]\\n\\n[Verse 1: David Gilmour &amp; Richard W...</td>\n",
       "      <td>1</td>\n",
       "    </tr>\n",
       "    <tr>\n",
       "      <th>307</th>\n",
       "      <td>Starboy</td>\n",
       "      <td>[Verse 1]\\nI'm tryna put you in the worst mood...</td>\n",
       "      <td>1</td>\n",
       "    </tr>\n",
       "    <tr>\n",
       "      <th>308</th>\n",
       "      <td>Want to Want Me</td>\n",
       "      <td>[Intro]\\nDerulo\\n\\n[Verse 1]\\nIt's too hard to...</td>\n",
       "      <td>1</td>\n",
       "    </tr>\n",
       "    <tr>\n",
       "      <th>309</th>\n",
       "      <td>Used To Love with Dean Lewis</td>\n",
       "      <td>Dua Lipa - Don't Start Now\\nAriana Grande - Ba...</td>\n",
       "      <td>1</td>\n",
       "    </tr>\n",
       "    <tr>\n",
       "      <th>310</th>\n",
       "      <td>Someone You Loved</td>\n",
       "      <td>[Verse 1]\\nI'm going under, and this time, I f...</td>\n",
       "      <td>1</td>\n",
       "    </tr>\n",
       "    <tr>\n",
       "      <th>311</th>\n",
       "      <td>Shape of You</td>\n",
       "      <td>[Verse 1]\\nThe club isn't the best place to fi...</td>\n",
       "      <td>1</td>\n",
       "    </tr>\n",
       "    <tr>\n",
       "      <th>312</th>\n",
       "      <td>Chained To The Rhythm</td>\n",
       "      <td>[Verse 1: Katy Perry]\\nAre we crazy?\\nLiving o...</td>\n",
       "      <td>1</td>\n",
       "    </tr>\n",
       "    <tr>\n",
       "      <th>313</th>\n",
       "      <td>Fade Away</td>\n",
       "      <td>[Part I: \"Sing About Me\"]\\n\\n[Chorus]\\nWhen th...</td>\n",
       "      <td>1</td>\n",
       "    </tr>\n",
       "    <tr>\n",
       "      <th>314</th>\n",
       "      <td>Cheerleader   Felix Jaehn Remix Radio Edit</td>\n",
       "      <td>When I need motivation\\nMy one solution is my ...</td>\n",
       "      <td>1</td>\n",
       "    </tr>\n",
       "    <tr>\n",
       "      <th>315</th>\n",
       "      <td>Silence</td>\n",
       "      <td>[Verse 1]\\nYeah, I'd rather be a lover than a ...</td>\n",
       "      <td>1</td>\n",
       "    </tr>\n",
       "    <tr>\n",
       "      <th>316</th>\n",
       "      <td>Bad To You with Normani  Nicki Minaj</td>\n",
       "      <td>Dua Lipa - Don't Start Now\\nAriana Grande - Ba...</td>\n",
       "      <td>0</td>\n",
       "    </tr>\n",
       "    <tr>\n",
       "      <th>317</th>\n",
       "      <td>Lost in Las Vegas</td>\n",
       "      <td>(Hook)\\nI'm at a loss for words\\nAnd my heart,...</td>\n",
       "      <td>1</td>\n",
       "    </tr>\n",
       "    <tr>\n",
       "      <th>318</th>\n",
       "      <td>Locked Away</td>\n",
       "      <td>[Produced by Dr. Dre]\\n\\n[Chorus: Eminem]\\nHi,...</td>\n",
       "      <td>1</td>\n",
       "    </tr>\n",
       "  </tbody>\n",
       "</table>\n",
       "<p>315 rows × 3 columns</p>\n",
       "</div>"
      ],
      "text/plain": [
       "                                             song_name  \\\n",
       "0                                         Just Friends   \n",
       "1                                            Footprint   \n",
       "2                                   The Best Of Myself   \n",
       "3                                         Light of You   \n",
       "4                    Own It feat Ed Sheeran  Burna Boy   \n",
       "5                                              FRIENDS   \n",
       "6                                                Sorry   \n",
       "7                                           The Middle   \n",
       "8                                          Galway Girl   \n",
       "9                            This Is What You Came For   \n",
       "10                           Glorious feat Skylar Grey   \n",
       "11                                          Only Human   \n",
       "12                                               Hello   \n",
       "13       Live Before I Die   Naughty Boy x Mike Posner   \n",
       "14                                            Old Ways   \n",
       "15                                        Shape of You   \n",
       "16                                       Be Your Light   \n",
       "17                On The Road feat Meek Mill  Lil Baby   \n",
       "18                                            Far Away   \n",
       "19                                         Circle Game   \n",
       "20                                   Thats What I Like   \n",
       "21                           Hey Why Miss You Sometime   \n",
       "22                                         Missing You   \n",
       "23                                     Let Me Love You   \n",
       "24                                              Throne   \n",
       "25                                 90 Days feat Wrabel   \n",
       "26                                        Un Poco Loco   \n",
       "27                                     Use This Gospel   \n",
       "28                                            Believer   \n",
       "29                 Love Me Anyway feat Chris Stapleton   \n",
       "..                                                 ...   \n",
       "289                                Can I Call You Mine   \n",
       "290                                       Just Friends   \n",
       "291                                             Closer   \n",
       "292                                 Purple Balenciagas   \n",
       "293                               Just the Way You Are   \n",
       "294                                         Synthesize   \n",
       "295                                         Better Now   \n",
       "296                             One Kiss with Dua Lipa   \n",
       "297  Back to You feat Bebe Rexha  Digital Farm Animals   \n",
       "298                        Girls Like You feat Cardi B   \n",
       "299                                    Sorry Not Sorry   \n",
       "300                                               Mama   \n",
       "301                      Theres Nothing Holdin Me Back   \n",
       "302                                          This City   \n",
       "303                                          On My Way   \n",
       "304                                        Nuevo Orden   \n",
       "305                                              Naked   \n",
       "306                                             Echoes   \n",
       "307                                            Starboy   \n",
       "308                                    Want to Want Me   \n",
       "309                       Used To Love with Dean Lewis   \n",
       "310                                  Someone You Loved   \n",
       "311                                       Shape of You   \n",
       "312                              Chained To The Rhythm   \n",
       "313                                          Fade Away   \n",
       "314         Cheerleader   Felix Jaehn Remix Radio Edit   \n",
       "315                                            Silence   \n",
       "316               Bad To You with Normani  Nicki Minaj   \n",
       "317                                  Lost in Las Vegas   \n",
       "318                                        Locked Away   \n",
       "\n",
       "                                                lyrics  label  \n",
       "0    [Intro]\\nOoh-oh, ooh-woh\\nOoh-oh, ooh-woh\\n\\n[...      1  \n",
       "1    [Part 1: Yoncé]\\n\\n[Intro]\\nLet me hear you sa...      0  \n",
       "2    [Verse 1]\\nYou woke me up\\nI didn't know I'd f...      1  \n",
       "3    [Verse 1]\\nElementary pa lang, napapansin na n...      0  \n",
       "4    Lewis Capaldi - Before You Go\\nStormzy - Own I...      1  \n",
       "5    [Intro]\\nOoh-oh, ooh-woh\\nOoh-oh, ooh-woh\\n\\n[...      1  \n",
       "6    [Written by Julia Michaels, Justin Tranter, an...      1  \n",
       "7    [AARON BURR]\\nHow does a bastard, orphan, son ...      1  \n",
       "8    [Chorus]\\nShe played the fiddle in an Irish ba...      1  \n",
       "9    [Chorus: Rihanna]\\nBaby, this is what you came...      1  \n",
       "10   Calvin Harris - Feels feat. Pharrell Williams,...      1  \n",
       "11   [Intro: Nick Jonas]\\nYeah, ayy\\n\\n[Verse 1: Jo...      1  \n",
       "12   [Verse 1]\\nHello, it's me\\nI was wondering if ...      1  \n",
       "13   11/1\\nAlan Walker - \"Avem (The Aviation Theme)...      1  \n",
       "14   [Intro: Moodymann]\\nHold on, hold on, fuck tha...      1  \n",
       "15   [Verse 1]\\nThe club isn't the best place to fi...      1  \n",
       "16   [Verse 1]\\nHonja jjujeo anja\\nSaenggag man keo...      1  \n",
       "17   [Letra de \"Post Malone - On the Road ft. Lil B...      1  \n",
       "18   [Verse 1: Young P.T./Ellis Rubin]\\nI close my ...      1  \n",
       "19   [Intro: Keyshia Cole]\\nAye, yeah\\nYeah\\nHey, y...      0  \n",
       "20   [Part I]\\n\\n[Intro: Drake]\\nAstro, yeah\\nSun i...      1  \n",
       "21   [Intro]\\nAyy\\nAh, haha\\n\\n[Verse 1]\\nBig time ...      0  \n",
       "22   [Verse 1: Olivia O'Brien]\\nFeeling used, but I...      0  \n",
       "23   [Verse 1: Justin Bieber]\\nI used to believe\\nW...      1  \n",
       "24   [Intro: Blades of Glory sample]\\n\"We're going ...      0  \n",
       "25   [Intro: P!nk]\\nNo-no-no, no-no-no, no\\nHey\\nNo...      0  \n",
       "26   [Letra de \"Un Poco Loco\" ft. Gael García Berna...      1  \n",
       "27   [Intro: Kanye West]\\nOh, oh, oh, oh, oh, oh\\nO...      0  \n",
       "28   [Verse 1]\\nFirst things first\\nI'ma say all th...      1  \n",
       "29   [Verse 1: P!nk]\\nEven if you see my scars, eve...      0  \n",
       "..                                                 ...    ...  \n",
       "289  [Verse 1]\\nTwo kids with their hearts on fire\\...      1  \n",
       "290  [Intro]\\nOoh-oh, ooh-woh\\nOoh-oh, ooh-woh\\n\\n[...      0  \n",
       "291  [Verse 1: Andrew Taggart]\\nHey, I was doing ju...      1  \n",
       "292  [Intro]\\nYeah, uh, uh\\nUh-huh, huh, hahaha\\nSo...      0  \n",
       "293  [Verse 1]\\nShe just wants to be beautiful\\nShe...      1  \n",
       "294  [Intro: Giorgio Moroder]\\nWhen I was fifteen, ...      1  \n",
       "295  [Intro]\\nLove yours\\nLove yours\\nNo such thing...      1  \n",
       "296  Band of Horses - No One's Gonna Love You (Stoc...      1  \n",
       "297  PRETTYMUCH - Would You Mind\\nX Ambassadors - A...      1  \n",
       "298  Kanye West - All Mine\\nThe 1975 - Give Yoursel...      1  \n",
       "299  [Intro]\\nPayback is a bad bitch\\nAnd baby, I'm...      1  \n",
       "300  [Verse 1]\\nWhere should we run to?\\nWe got the...      1  \n",
       "301  [Verse 1]\\nI wanna follow where she goes\\nI th...      1  \n",
       "302  [Produced by Vinylz]\\n\\n[Verse 1]\\nSince a you...      1  \n",
       "303  [Intro]\\nAre you alright?\\nI'm alright, I'm qu...      1  \n",
       "304  [Intro]\\nEl nuevo orden\\nEl nuevo orden musica...      0  \n",
       "305  [Verse 1]\\nHey, you there\\nCan we take it to t...      1  \n",
       "306  [Intro]\\n\\n[Verse 1: David Gilmour & Richard W...      1  \n",
       "307  [Verse 1]\\nI'm tryna put you in the worst mood...      1  \n",
       "308  [Intro]\\nDerulo\\n\\n[Verse 1]\\nIt's too hard to...      1  \n",
       "309  Dua Lipa - Don't Start Now\\nAriana Grande - Ba...      1  \n",
       "310  [Verse 1]\\nI'm going under, and this time, I f...      1  \n",
       "311  [Verse 1]\\nThe club isn't the best place to fi...      1  \n",
       "312  [Verse 1: Katy Perry]\\nAre we crazy?\\nLiving o...      1  \n",
       "313  [Part I: \"Sing About Me\"]\\n\\n[Chorus]\\nWhen th...      1  \n",
       "314  When I need motivation\\nMy one solution is my ...      1  \n",
       "315  [Verse 1]\\nYeah, I'd rather be a lover than a ...      1  \n",
       "316  Dua Lipa - Don't Start Now\\nAriana Grande - Ba...      0  \n",
       "317  (Hook)\\nI'm at a loss for words\\nAnd my heart,...      1  \n",
       "318  [Produced by Dr. Dre]\\n\\n[Chorus: Eminem]\\nHi,...      1  \n",
       "\n",
       "[315 rows x 3 columns]"
      ]
     },
     "execution_count": 34,
     "metadata": {},
     "output_type": "execute_result"
    }
   ],
   "source": [
    "df_train"
   ]
  },
  {
   "cell_type": "code",
   "execution_count": 69,
   "metadata": {},
   "outputs": [
    {
     "name": "stderr",
     "output_type": "stream",
     "text": [
      "/Users/macbook/Documents/anaconda3/lib/python3.7/site-packages/gensim/models/doc2vec.py:570: UserWarning: The parameter `iter` is deprecated, will be removed in 4.0.0, use `epochs` instead.\n",
      "  warnings.warn(\"The parameter `iter` is deprecated, will be removed in 4.0.0, use `epochs` instead.\")\n",
      "/Users/macbook/Documents/anaconda3/lib/python3.7/site-packages/gensim/models/doc2vec.py:574: UserWarning: The parameter `size` is deprecated, will be removed in 4.0.0, use `vector_size` instead.\n",
      "  warnings.warn(\"The parameter `size` is deprecated, will be removed in 4.0.0, use `vector_size` instead.\")\n"
     ]
    }
   ],
   "source": [
    "from gensim.models.doc2vec import Doc2Vec\n",
    "\n",
    "model = Doc2Vec(\n",
    "    alpha=0.025,\n",
    "    min_alpha=0.025,\n",
    "    workers=15, \n",
    "    min_count=2,\n",
    "    window=10,\n",
    "    size=100,\n",
    "    iter=20,\n",
    "    sample=0.001,\n",
    "    negative=5\n",
    ")"
   ]
  },
  {
   "cell_type": "code",
   "execution_count": 70,
   "metadata": {},
   "outputs": [
    {
     "name": "stderr",
     "output_type": "stream",
     "text": [
      "/Users/macbook/Documents/anaconda3/lib/python3.7/site-packages/ipykernel_launcher.py:4: DeprecationWarning: Call to deprecated `iter` (Attribute will be removed in 4.0.0, use self.epochs instead).\n",
      "  after removing the cwd from sys.path.\n"
     ]
    }
   ],
   "source": [
    "model.build_vocab(sentences)\n",
    "epochs = 10\n",
    "for epoch in range(epochs):\n",
    "    model.train(sentences, total_examples=model.corpus_count, epochs=model.iter)\n",
    "    model.alpha -= 0.002  # decrease the learning rate\n",
    "    model.min_alpha = model.alpha  # fix the learning rate, no decay"
   ]
  },
  {
   "cell_type": "code",
   "execution_count": 37,
   "metadata": {},
   "outputs": [],
   "source": [
    "model.save('rap-lyrics.doc2vec')\n",
    "\n",
    "model = Doc2Vec.load('rap-lyrics.doc2vec')"
   ]
  },
  {
   "cell_type": "code",
   "execution_count": 38,
   "metadata": {},
   "outputs": [
    {
     "data": {
      "text/plain": [
       "array([ 2.5724192 ,  0.3212783 , -1.8427014 , -0.31529284,  1.9512107 ,\n",
       "       -0.6399907 ,  0.09842164,  0.85231733,  0.3693731 ,  3.6463823 ,\n",
       "        0.17259401, -0.7572881 , -0.18274093,  0.42106935, -0.1448037 ,\n",
       "       -1.444531  , -0.47300273,  1.5295235 , -2.0635192 ,  0.63535434,\n",
       "       -1.1960827 , -0.5159665 , -1.0347812 ,  2.2297902 ,  1.0550698 ,\n",
       "       -2.0251348 ,  0.12323921,  1.0993191 , -2.5690126 , -0.9618949 ,\n",
       "       -0.07565601,  3.4312568 ,  1.3259313 ,  0.04511107,  1.1491091 ,\n",
       "        1.132705  , -2.2431726 , -3.3029475 , -0.24405247, -1.2385237 ,\n",
       "        1.5973626 , -2.796351  , -2.5256462 , -1.3473315 ,  0.9618789 ,\n",
       "       -0.4274234 , -0.34581092, -0.07142176, -1.396033  ,  0.8537299 ,\n",
       "       -1.2111342 ,  0.80704606,  1.6038815 , -0.44400027,  0.58350337,\n",
       "       -2.650158  , -0.29091918, -1.167957  ,  1.4572924 ,  0.23564486,\n",
       "        0.40175578, -0.22105217, -0.03600007, -0.46692723,  0.83074176,\n",
       "        1.4707575 , -0.04706454,  1.1911118 , -1.9520966 ,  0.20077659,\n",
       "        2.7071517 , -1.1879275 ,  1.2070282 ,  0.70159763,  1.0189376 ,\n",
       "       -0.12677652,  1.2582566 , -0.82215613, -0.2985812 , -0.8492715 ,\n",
       "       -0.36230594, -0.36592358,  1.6371269 ,  0.8248982 ,  2.0691028 ,\n",
       "        1.4887046 , -2.6650336 ,  1.2962469 , -3.1536465 , -0.04843206,\n",
       "       -1.9339247 ,  3.956091  ,  1.1225379 , -0.99337703, -2.112523  ,\n",
       "       -0.44851285,  1.3456117 ,  1.5150208 , -1.5422062 ,  0.72311455,\n",
       "        1.3688797 , -0.18655947,  1.9980663 , -2.4271786 , -1.531885  ,\n",
       "       -0.24623469, -0.48822412,  1.1722229 , -0.7886228 ,  0.8013084 ,\n",
       "       -2.6462457 , -4.8233957 , -0.34030014,  3.1707635 , -0.17638637,\n",
       "       -2.0864983 ,  0.04587409, -0.59825337, -0.5085745 ,  0.958705  ,\n",
       "        2.5770874 ,  0.42037117,  2.4195855 , -0.33297345, -0.6355921 ,\n",
       "        0.06665383,  2.0095294 ,  0.845924  ,  2.7864296 ,  0.24329974,\n",
       "       -0.5413831 , -0.9721751 ,  1.3957386 , -0.7647903 ,  2.735343  ,\n",
       "       -1.8447902 , -2.017224  , -2.0389862 ,  1.2672155 ,  2.3655467 ,\n",
       "        1.87614   ,  1.1415836 ,  0.64007264,  1.9994231 , -0.34732854,\n",
       "       -0.05699932, -2.2483382 ,  0.9714733 ,  1.4848393 ,  0.7688384 ,\n",
       "       -1.1687762 , -2.8659458 , -1.208571  ,  1.4646047 ,  0.40068248,\n",
       "        1.215286  ,  0.33296147, -0.2102357 ,  1.6808329 ,  1.4373211 ,\n",
       "       -0.6183532 , -1.979078  ,  1.5526627 , -1.2127167 ,  0.5688043 ,\n",
       "        0.33024576,  1.6268559 ,  0.40056553,  0.49600652, -1.5649984 ,\n",
       "       -0.9341106 , -0.6766265 ,  2.2088726 , -0.02174487, -1.862278  ,\n",
       "        1.3599212 ,  0.46232498,  1.9841932 , -0.40915015,  1.2096896 ,\n",
       "       -1.7104205 , -1.3316804 , -2.5418825 , -1.9915352 ,  1.8486403 ,\n",
       "        1.391951  ,  0.9905252 , -0.15781203,  0.749047  , -1.3169647 ,\n",
       "        1.2052277 , -1.9557202 ,  0.74668306,  0.46989825,  0.948722  ,\n",
       "        1.0532646 , -0.23167711,  0.14596401, -2.2816482 ,  0.27789658,\n",
       "        1.5525693 ,  0.46521068,  1.3177598 , -0.10786974, -1.2303755 ,\n",
       "        2.8444786 , -0.49013427, -0.1908122 ,  1.7826653 ,  1.8011247 ,\n",
       "        0.47783068,  2.7959373 ,  1.4414694 , -0.5517647 , -0.48614892,\n",
       "        0.03801205, -2.22423   ,  0.9299841 ,  0.71912163, -1.5027997 ,\n",
       "        1.9140422 , -2.0172293 ,  0.28126454,  0.34933084, -0.9312666 ,\n",
       "        0.32126603,  0.8651586 ,  0.42680752,  1.5634433 ,  1.3663741 ,\n",
       "       -0.04833524,  0.22487432,  0.9629192 , -1.3208938 , -0.27410254,\n",
       "        0.6316745 , -0.2912793 , -2.4355812 , -0.44085374,  1.3106102 ,\n",
       "        0.07055513, -0.39021024, -0.1094225 ,  1.9216354 , -0.954532  ,\n",
       "        1.4196848 , -0.18521237,  0.14582984, -0.28373963, -2.800739  ,\n",
       "       -1.3314016 , -0.98031723,  0.9657079 ,  0.88394433, -2.2979615 ,\n",
       "       -0.3759357 ,  1.1546931 , -1.5075037 ,  0.5640235 ,  0.07470789,\n",
       "        1.013665  , -1.5172343 ,  0.69208694, -0.4972712 , -1.9023118 ,\n",
       "       -0.2623085 ,  1.977954  , -1.3196707 , -1.0969151 ,  2.4355326 ,\n",
       "       -0.64181745, -1.0559461 ,  0.7163053 , -1.2024055 ,  0.7509927 ,\n",
       "       -0.54488164, -0.72173566,  0.21448356, -0.5036058 , -0.13828975,\n",
       "        2.3374493 , -0.5715926 , -0.6625761 , -0.74821055, -0.34622848,\n",
       "        0.76217717,  0.05358927, -0.17768833, -0.36761862,  1.3698955 ,\n",
       "       -0.12656385,  1.9757214 ,  3.4489267 ,  0.52368456,  2.1033926 ,\n",
       "       -0.6205069 , -1.2241106 , -2.0032892 , -0.9843804 ,  3.078819  ],\n",
       "      dtype=float32)"
      ]
     },
     "execution_count": 38,
     "metadata": {},
     "output_type": "execute_result"
    }
   ],
   "source": [
    "model.wv.word_vec('rap')"
   ]
  },
  {
   "cell_type": "code",
   "execution_count": 64,
   "metadata": {},
   "outputs": [
    {
     "data": {
      "text/plain": [
       "[('hooked', 0.3337218165397644),\n",
       " ('23', 0.2739032804965973),\n",
       " ('felix', 0.27245545387268066),\n",
       " ('value,', 0.26271313428878784),\n",
       " ('antebellum', 0.25895577669143677),\n",
       " ('minogue', 0.258823037147522),\n",
       " ('kylie', 0.2568930983543396),\n",
       " ('rue', 0.25528040528297424),\n",
       " ('yours\"', 0.2545957863330841),\n",
       " ('dolla', 0.253604918718338)]"
      ]
     },
     "execution_count": 64,
     "metadata": {},
     "output_type": "execute_result"
    }
   ],
   "source": [
    "model.wv.most_similar('kiss')"
   ]
  },
  {
   "cell_type": "code",
   "execution_count": 45,
   "metadata": {},
   "outputs": [],
   "source": [
    "def print_titles(results):\n",
    "    lookup = lambda x: df_train[\n",
    "        df_train.label==int(x)\n",
    "    ].song.values[0]\n",
    "    return [\n",
    "        [\n",
    "            i[0].split('|')[0], \n",
    "            lookup(i[0].split('|')[1]), \n",
    "            i[1]\n",
    "        ] for i in results\n",
    "    ]"
   ]
  },
  {
   "cell_type": "code",
   "execution_count": 53,
   "metadata": {},
   "outputs": [
    {
     "data": {
      "text/plain": [
       "[('Old Town Road   Remix|1', 0.29532143473625183),\n",
       " ('I Miss Myself with HRVY|1', 0.2794342041015625),\n",
       " ('Synthesize|1', 0.26935434341430664),\n",
       " ('Tempestades|0', 0.24257932603359222),\n",
       " ('Ransom|1', 0.23565027117729187),\n",
       " ('Bad To You with Normani  Nicki Minaj|0', 0.23052597045898438),\n",
       " ('Used To Love with Dean Lewis|1', 0.22720202803611755),\n",
       " ('Jekyll and Hyde|0', 0.22223620116710663),\n",
       " ('Never Really Over|0', 0.2206127941608429),\n",
       " ('If I Cant Have You|1', 0.2205154150724411)]"
      ]
     },
     "execution_count": 53,
     "metadata": {},
     "output_type": "execute_result"
    }
   ],
   "source": [
    "model.docvecs.most_similar([model['rap']], topn=10)"
   ]
  },
  {
   "cell_type": "code",
   "execution_count": 68,
   "metadata": {},
   "outputs": [
    {
     "data": {
      "text/plain": [
       "(300,)"
      ]
     },
     "execution_count": 68,
     "metadata": {},
     "output_type": "execute_result"
    }
   ],
   "source": [
    "model.docvecs.vectors_docs[0]"
   ]
  },
  {
   "cell_type": "code",
   "execution_count": null,
   "metadata": {},
   "outputs": [],
   "source": []
  }
 ],
 "metadata": {
  "kernelspec": {
   "display_name": "Python 3",
   "language": "python",
   "name": "python3"
  },
  "language_info": {
   "codemirror_mode": {
    "name": "ipython",
    "version": 3
   },
   "file_extension": ".py",
   "mimetype": "text/x-python",
   "name": "python",
   "nbconvert_exporter": "python",
   "pygments_lexer": "ipython3",
   "version": "3.7.3"
  }
 },
 "nbformat": 4,
 "nbformat_minor": 2
}
